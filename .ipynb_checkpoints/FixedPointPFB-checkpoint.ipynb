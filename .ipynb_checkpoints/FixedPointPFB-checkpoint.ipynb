{
 "cells": [
  {
   "cell_type": "markdown",
   "metadata": {},
   "source": [
    "In this project I am to simulate the SKA F-Engine using python.\n",
    "To begin, a fixed point number system had to be implemented.\n",
    "\n",
    "How this is written to work is through using numpy arrays so as not to have to re-write basic math functionality. \n",
    "For any fixpoint number representation (be it an array or single value) it will have the following properties:\n",
    " - bits: How many bits is the number to be represented by.\n",
    " - fraction: How many of those bits are used to represent the fraction.\n",
    " - min_int: Optionally specify the minimum integer representable.\n",
    " - max_int: Optionally specify the maximum integer representable.\n",
    " - unsigned: Defaults to being a signed number, but can be set \"True\" to make unsigned.\n",
    " - offset: Default offset is 0.5.\n",
    " - FPTYPE: Type of integer the fixed point number is held as i.e. int64, int32 etc...\n",
    "\n",
    "Data parsed from a float is clipped (i.e all numbers larger/less than a max/min = that max/min), scaled (i.e. left shifted until entire fractional part is part of the integer) and rounded/truncated so as to remove all the rest of the fractional part and hold the number as an integer. For example, for bits = 8 and fraction =  6:\n",
    "\\begin{equation}{\n",
    "    \\textrm{(float) } 2.569 => \\textrm{ (float) } 2.569\\times 2^{6} => \\textrm{ (float) } 164.416 => \\textrm{ (FPTYPE) } 164\n",
    "}\\end{equation}\n",
    "\n",
    "The rest of the methods extend the functionality of the Fixed Point number system developed by adapting numpy addition, multiplication, subtraction, indexing, copying and printing.\n",
    "\n",
    "Methods are further included to allow for re-quantisation (re-casting the fixed point number with new fraction and bit sizes) and right/left shifting."
   ]
  },
  {
   "cell_type": "markdown",
   "metadata": {},
   "source": [
    "Running some tests on the above fixed point number system:"
   ]
  },
  {
   "cell_type": "code",
   "execution_count": 24,
   "metadata": {},
   "outputs": [
    {
     "name": "stdout",
     "output_type": "stream",
     "text": [
      "OUTPUT:\n",
      "a_list:  [511   6 115]  as float:  [0.99707031 0.01074219 0.22363281]\n",
      "b_list:  [113 250 471]  as float:  [0.21972656 0.48730469 0.91894531]\n",
      "a_list+b_list:  [624 256 586]  as float:  [1.21777344 0.49902344 1.14355469]\n",
      "a_list-b_list:  [ 398 -244 -356]  as float:  [ 0.77636719 -0.47753906 -0.69628906]\n",
      "a_list*b_list:  [57743  1500 54165]  as float:  [0.22027016 0.00572014 0.20662117]\n",
      "a_list after quantising:  [15  1  4]  as float:  [0.90625 0.03125 0.21875]\n",
      "a_list after right shifting:  [255   3  57]  as float:  [0.49707031 0.00488281 0.11035156]\n",
      "b_list, a copy of a_list:  [255   3  57]  as float:  [0.49707031 0.00488281 0.11035156]\n"
     ]
    }
   ],
   "source": [
    "import numpy as np\n",
    "from fixpoint import fixpoint as fp\n",
    "\n",
    "a_list = fp(10,9)\n",
    "a_list.from_float(np.array([1.99,0.01,0.223]))\n",
    "b_list = fp(10,9)\n",
    "b_list.from_float(np.array([0.22,0.488,0.919]))\n",
    "print(\"OUTPUT:\")\n",
    "print(\"a_list: \",a_list.data,\" as float: \",a_list.to_float()) #show a_list\n",
    "print(\"b_list: \",b_list.data,\" as float: \",b_list.to_float()) #show b_list\n",
    "print(\"a_list+b_list: \",(a_list+b_list).data,\" as float: \",(a_list+b_list).to_float()) #show a_list+b_list\n",
    "print(\"a_list-b_list: \",(a_list-b_list).data,\" as float: \",(a_list-b_list).to_float()) #show a_list-b_list\n",
    "print(\"a_list*b_list: \",(a_list*b_list).data,\" as float: \",(a_list*b_list).to_float()) #show a_list*b_list\n",
    "\n",
    "a_newlistclip = a_list.quantise(5,4) #quantise a_list down to bits=5 and fraction = 4\n",
    "print(\"a_list after quantising: \",a_newlistclip.data,\" as float: \",a_newlistclip.to_float()) #show a_list quantised\n",
    "\n",
    "a_newlist = a_list>>1 #right shift a_list by 1 (i.e. divide by 2)\n",
    "print(\"a_list after right shifting: \",a_newlist.data,\" as float: \",a_newlist.to_float()) #show a_list shifted down by 1\n",
    "\n",
    "b_newlist = a_newlist.copy()\n",
    "print(\"b_list, a copy of a_list: \",b_newlist.data,\" as float: \",a_newlist.to_float()) #show b_list"
   ]
  },
  {
   "cell_type": "markdown",
   "metadata": {},
   "source": [
    "We see that the numbers are behaving in a correct fashion with only slight deviations from what would be produced if done in standard floating point. Re-quantising works, but we also run the risk of having the values clip if the Integer World Length (IWL) is decreased (i.e. oldbits - oldfraction > newbits - new fraction). Right shifting also works and will be used to re-quantise without clipping.\n",
    "\n",
    "Once having developed the fixed point number system, it is extended to be a fixed point complex number system by storing the imaginary and real components as two separate fixed point numbers (real and imaginary). All mathematics is then done in a complex manner and all other operations are simply extended in the complex regime. "
   ]
  },
  {
   "cell_type": "markdown",
   "metadata": {},
   "source": [
    "Running some tests:"
   ]
  },
  {
   "cell_type": "code",
   "execution_count": 25,
   "metadata": {},
   "outputs": [
    {
     "name": "stdout",
     "output_type": "stream",
     "text": [
      "OUTPUT:\n",
      "a_list:  [511.+511.j   6.  +0.j 115.-450.j]  as float:  [0.99707031+9.97070312e-01j 0.01074219-9.76562500e-04j\n",
      " 0.22363281-8.79882812e-01j]\n",
      "b_list:  [113.+226.j 246.+338.j 466. +63.j]  as float:  [0.21972656+0.44042969j 0.47949219+0.65917969j 0.90917969+0.12207031j]\n",
      "a_list+b_list:  [624.+737.j 252.+338.j 581.-387.j]  as float:  [1.21777344+1.43847656j 0.49121094+0.65917969j 1.13378906-0.75683594j]\n",
      "a_list-b_list:  [ 398.+285.j -240.-338.j -351.-513.j]  as float:  [ 0.77636719+0.55566406j -0.46972656-0.66113281j -0.68652344-1.00292969j]\n",
      "a_list*b_list:  [-57743.+173229.j   1476.  +2028.j  81940.-202455.j]  as float:  [-0.22027397+0.66081429j  0.00562859+0.0077343j   0.31257439-0.77230644j]\n",
      "a_list after quantising:  [15.+15.j  1. +0.j  4.-14.j]  as float:  [0.90625+0.90625j 0.03125-0.03125j 0.21875-0.90625j]\n",
      "a_list after right shifting:  [255.+255.j   3.  +0.j  57.-225.j]  as float:  [0.49707031+0.49707031j 0.00488281-0.00097656j 0.11035156-0.44042969j]\n",
      "b_list, a copy of a_list:  [255.+255.j   3.  +0.j  57.-225.j]  as float:  [0.49707031+0.49707031j 0.00488281-0.00097656j 0.11035156-0.44042969j]\n"
     ]
    }
   ],
   "source": [
    "from fixpoint import cfixpoint as cfp\n",
    "\n",
    "a_list = cfp(10,9)\n",
    "a_list.from_complex(np.array([1.99+1j,0.01-0.001j,0.223-0.88j]))\n",
    "b_list = cfp(10,9)\n",
    "b_list.from_complex(np.array([0.22+0.44j,0.48+0.66j,0.91+0.123j]))\n",
    "print(\"OUTPUT:\")\n",
    "print(\"a_list: \",a_list.data,\" as float: \",a_list.to_complex()) #show a_list\n",
    "print(\"b_list: \",b_list.data,\" as float: \",b_list.to_complex()) #show b_list\n",
    "print(\"a_list+b_list: \",(a_list+b_list).data,\" as float: \",(a_list+b_list).to_complex()) #show a_list+b_list\n",
    "print(\"a_list-b_list: \",(a_list-b_list).data,\" as float: \",(a_list-b_list).to_complex()) #show a_list-b_list\n",
    "print(\"a_list*b_list: \",(a_list*b_list).data,\" as float: \",(a_list*b_list).to_complex()) #show a_list*b_list\n",
    "\n",
    "a_newlistclip = a_list.quantise(5,4) #quantise a_list down to bits=5 and fraction = 4\n",
    "print(\"a_list after quantising: \",a_newlistclip.data,\" as float: \",a_newlistclip.to_complex())\n",
    "\n",
    "a_newlist = a_list>>1 #right shift a_list by 1 (i.e. divide by 2)\n",
    "print(\"a_list after right shifting: \",a_newlist.data,\" as float: \",a_newlist.to_complex())\n",
    "\n",
    "b_newlist = a_newlist.copy()\n",
    "print(\"b_list, a copy of a_list: \",b_newlist.data,\" as float: \",a_newlist.to_complex()) #show b_list"
   ]
  },
  {
   "cell_type": "markdown",
   "metadata": {},
   "source": [
    "We see the tests pass and act as the fixed point type did.\n",
    "\n",
    "To implement the FFT for the polyphase filter bank, we first require a working fixed point FFT. The Radix 2 architecture is used in MeerKAT and as such I will develope a Radix 2 DIT FFT. Originally I had tried to implement it recursively, but in order to better understand signal flow, the iterative technique is used here. Some behaviour to note within the fixed-point FFT are:"
   ]
  },
  {
   "cell_type": "markdown",
   "metadata": {},
   "source": [
    "With MeerKAT all input data is $<\\pm 1$ and infact is scaled to be $<\\pm 0.5$ so as to not have overflow when doing additions - one hopes.  \n",
    "To be noted with fixed point addition and multiplication:\n",
    "\n",
    "ADDITION:\n",
    " - scales must be the same to add the fixed point numbers.\n",
    " - to make scales the same, I requantise the number with a  smaller scale to the larger scale (to not lose precision). i.e. if a has scale R and b has scale S, where $scale = 2^{fraction}$, and R<S, then $a = a\\times\\frac{S}{R}$. Addition is then performed after.\n",
    " - what is returned a number of bit length  +1 to that of its inputs. Hence we have a bit growth of 1 - however in the special case of MeerKAT which we are hoping for, we hope that this additional bit won't be populated since we are adding number $<\\pm 0.5$.\n",
    " \n",
    "MULTIPLICATION:\n",
    " - scales needn't be the same.\n",
    " - for a with bits = N and fraction = M, and b with bits = V and fraction = W, multiplication returns number of bits = N+V and fraction = M+W. The scale of the new number is $2^{M+W}$. However for the special case of MeerKAT, we will only have bit growth to the right (since the numbers we multiply are sub-zero).\n",
    "\n",
    "HOW TO FFT-SHIFT/REQUANTISE:\n",
    "\n",
    "The current idea is that in the butterfly operations $A - \\omega \\times B$ and $A + \\omega \\times B$, the multiplication of $\\omega \\times B$ will grow the data to the right by a certain number of bits - which are then simply sliced off (with rounding) to maintain bit precision. The addition should then be that of 2 numbers $<\\pm 0.5$. After addition we should have +1 bits. If we FFT shift, we then get -1 bits and -1 fraction, then normalise to original i.e. pad with zero in LSB. If we dont, we normalise, thereby removing MSB. The FFT is created to accept a register as with MeerKAT that accepts a binary register which either will initiate an FFT shift at a stage if $=1$, or not if $=0$. To begin we start with developing the bit-reordering technique to be used to post/pre process the data in the FFT."
   ]
  },
  {
   "cell_type": "code",
   "execution_count": 26,
   "metadata": {},
   "outputs": [],
   "source": [
    "def bit_rev(a, bits):\n",
    "    a_copy = a\n",
    "    N = 1<<bits    \n",
    "    for i in range(1,bits):\n",
    "        a >>=1\n",
    "        a_copy <<=1\n",
    "        a_copy |= (a&1)\n",
    "    a_copy &= N-1\n",
    "    return a_copy"
   ]
  },
  {
   "cell_type": "markdown",
   "metadata": {},
   "source": [
    "So the bit reversal of 6 for an 3 bit system is (i.e. 8-pt FFT):"
   ]
  },
  {
   "cell_type": "code",
   "execution_count": 27,
   "metadata": {},
   "outputs": [
    {
     "data": {
      "text/plain": [
       "1"
      ]
     },
     "execution_count": 27,
     "metadata": {},
     "output_type": "execute_result"
    }
   ],
   "source": [
    "bit_rev(4,3)"
   ]
  },
  {
   "cell_type": "markdown",
   "metadata": {},
   "source": [
    "which is the correct ordering required.\n",
    "Ordering the values in array according to these number transforms is done as:\n"
   ]
  },
  {
   "cell_type": "code",
   "execution_count": 28,
   "metadata": {},
   "outputs": [],
   "source": [
    "def bitrevarray(array,N):\n",
    "    bits = int(np.log2(N))\n",
    "    A = np.zeros(N,dtype=np.complex)\n",
    "    for k in range(0, N):\n",
    "        A[bit_rev(k,bits)] = array[k]\n",
    "    return A"
   ]
  },
  {
   "cell_type": "markdown",
   "metadata": {},
   "source": [
    "So, parsing 8 data values into this, for a 3 bit system (8-pt fft):"
   ]
  },
  {
   "cell_type": "code",
   "execution_count": 29,
   "metadata": {},
   "outputs": [
    {
     "data": {
      "text/plain": [
       "array([ 0.+0.j,  8.+0.j,  4.+0.j, 12.+0.j,  2.+0.j, 10.+0.j,  6.+0.j,\n",
       "       14.+0.j,  1.+0.j,  9.+0.j,  5.+0.j, 13.+0.j,  3.+0.j, 11.+0.j,\n",
       "        7.+0.j, 15.+0.j])"
      ]
     },
     "execution_count": 29,
     "metadata": {},
     "output_type": "execute_result"
    }
   ],
   "source": [
    "bitrevarray(np.arange(16),16) #parse the array [0,1,2,3,4,5,6,7] into the bitreversal array:"
   ]
  },
  {
   "cell_type": "markdown",
   "metadata": {},
   "source": [
    "Which has effectively done the odd/even separation required for a radix 2 decimation in time and decimation in frequency algorithms. MeerKAT reorders the data after the fft as opposed to before, and uses a DIT. Below is a floating point iterative fft with a bit-reordered array in and natural order out:"
   ]
  },
  {
   "cell_type": "code",
   "execution_count": 30,
   "metadata": {},
   "outputs": [],
   "source": [
    "def iterfft_bitorder_in_DIT(a):\n",
    "    N=len(a)                                   #how long is data stream\n",
    "    A=bitrevarray(a,N)                         #bit reorder input data prior to processing\n",
    "    for stage in range(1,int(np.log2(N))+1):   #iterate through stages\n",
    "        subarraylen = 2**stage                 #size of sub-array being processed - will decrease if natural order in, else it increases \n",
    "                                               #(i.e. prior decimation vs post decimation).\n",
    "        w_m = np.exp(-2*np.pi*1j/subarraylen)  #twiddle factor base\n",
    "        distance = int(subarraylen/2)          #distance between input arms to butterflies\n",
    "        for k in range(0,N,subarraylen):       #iterate through all sub arrays\n",
    "            w=1                                #start at 1\n",
    "            for j in range(0,distance):        #iterate through each pair of arms in butterflies\n",
    "                t= w*A[k+j+distance]           #one butterfly input arm\n",
    "                u = A[k+j]                     #other butterfly input arm\n",
    "                A[k+j]=u+t                     #one butterfly output arm\n",
    "                A[k+j+distance]=u-t            #other butterfly output arm\n",
    "                w=w*w_m                        #update twiddle factor - rotate it for next iteration\n",
    "    return A"
   ]
  },
  {
   "cell_type": "markdown",
   "metadata": {},
   "source": [
    "Comparing with the numpy fft for 16-bit data of a cosine wave we get:"
   ]
  },
  {
   "cell_type": "code",
   "execution_count": 31,
   "metadata": {},
   "outputs": [
    {
     "data": {
      "image/png": "[encoded data removed]",
      "text/plain": [
       "<Figure size 432x288 with 1 Axes>"
      ]
     },
     "metadata": {},
     "output_type": "display_data"
    }
   ],
   "source": [
    "import matplotlib.pyplot as plt\n",
    "nnn = 1024\n",
    "cos = (np.cos(128*np.pi*np.arange(nnn)/nnn))/2\n",
    "sig = cos+1j*(np.cos(8*np.pi*np.arange(nnn)/nnn))/2\n",
    "plt.plot(np.arange(nnn),np.abs(iterfft_bitorder_in_DIT(sig)),'r',label='Our iterative FFT')\n",
    "plt.plot(np.arange(nnn),np.abs(np.fft.fft(sig)),'g',label='Numpy FFT')\n",
    "plt.legend()\n",
    "plt.show()"
   ]
  },
  {
   "cell_type": "markdown",
   "metadata": {},
   "source": [
    "Great, so the fft's match (nearly exactly which is why you cannot see red so well).\n",
    "Now we implement a natural order in, bit-reverse order out iterative DIT fft (as used by MeerKAT). I precomputed the twiddle factors so there is no redundancy in compute, and while this is different to the MeerKAT FPGA implementation (due to memory constraints) it should not cause any discrepancy:"
   ]
  },
  {
   "cell_type": "code",
   "execution_count": 32,
   "metadata": {},
   "outputs": [],
   "source": [
    "def maketwiddle(N):\n",
    "    arr = np.zeros(N//2,dtype=np.complex)\n",
    "    for i in range(N//2):\n",
    "        arr[i] = np.exp(-2*i*np.pi*1j/N)\n",
    "    return arr"
   ]
  },
  {
   "cell_type": "code",
   "execution_count": 33,
   "metadata": {},
   "outputs": [
    {
     "data": {
      "text/plain": [
       "array([ 1.00000000e+00+0.j        ,  7.07106781e-01-0.70710678j,\n",
       "        6.12323400e-17-1.j        , -7.07106781e-01-0.70710678j])"
      ]
     },
     "execution_count": 33,
     "metadata": {},
     "output_type": "execute_result"
    }
   ],
   "source": [
    "maketwiddle(8)"
   ]
  },
  {
   "cell_type": "code",
   "execution_count": 34,
   "metadata": {},
   "outputs": [],
   "source": [
    "def iterfft_natural_in_DIT(s,w):\n",
    "    a = np.asarray(s,dtype = np.complex)\n",
    "    N = a.size                                  #how long is data stream\n",
    "    pairs_in_group = N//2                       #how many butterfly pairs per group - starts at 1/2*full data length obviously\n",
    "    num_of_groups = 1                           #number of groups - how many subarrays are there?\n",
    "    distance = N//2                             #how far between each fft arm?\n",
    "    while num_of_groups < N:                    #basically iterates through stages\n",
    "        for k in range(num_of_groups):          #iterate through each subarray\n",
    "            jfirst = 2*k*pairs_in_group         #index to beginning of a group\n",
    "            jlast = jfirst + pairs_in_group - 1 #first index plus offset - used to index whole group\n",
    "            W=w[k]\n",
    "            for j in range(jfirst, jlast + 1):\n",
    "                tmp = W*a[j+distance]\n",
    "                a[j+distance] = a[j]-tmp\n",
    "                a[j] = a[j]+tmp\n",
    "        pairs_in_group //=2\n",
    "        num_of_groups *=2\n",
    "        distance //=2\n",
    "    A=bitrevarray(a,N)                          #post bit-reordering\n",
    "    return A\n",
    "        "
   ]
  },
  {
   "cell_type": "markdown",
   "metadata": {},
   "source": [
    "testing as with above."
   ]
  },
  {
   "cell_type": "code",
   "execution_count": 35,
   "metadata": {},
   "outputs": [
    {
     "data": {
      "image/png": "[encoded data removed]",
      "text/plain": [
       "<Figure size 432x288 with 1 Axes>"
      ]
     },
     "metadata": {},
     "output_type": "display_data"
    }
   ],
   "source": [
    "w = maketwiddle(nnn)\n",
    "w = bitrevarray(w,w.size)\n",
    "plt.plot(np.abs(iterfft_natural_in_DIT(cos,w)),'r',label='Our iterative FFT')\n",
    "plt.plot(np.abs(np.fft.fft(cos)),'g',label='Numpy FFT')\n",
    "plt.legend()\n",
    "plt.show()"
   ]
  },
  {
   "cell_type": "markdown",
   "metadata": {},
   "source": [
    "Implementing the fixed point implementation now:"
   ]
  },
  {
   "cell_type": "code",
   "execution_count": 36,
   "metadata": {},
   "outputs": [],
   "source": [
    "def bitrevfixarray(array,N):\n",
    "    bits = int(np.log2(N))\n",
    "    A=array.copy()\n",
    "    for k in range(0, N):\n",
    "        A[bit_rev(k,bits)] = array[k]\n",
    "    return A"
   ]
  },
  {
   "cell_type": "markdown",
   "metadata": {},
   "source": [
    "And to test:"
   ]
  },
  {
   "cell_type": "code",
   "execution_count": 37,
   "metadata": {},
   "outputs": [
    {
     "name": "stdout",
     "output_type": "stream",
     "text": [
      "Type:  FP complex unsigned (4, 0), shape (16,) \n",
      " Data:  [ 0.+0.j  8.+0.j  4.+0.j 12.+0.j  2.+0.j 10.+0.j  6.+0.j 14.+0.j  1.+0.j\n",
      "  9.+0.j  5.+0.j 13.+0.j  3.+0.j 11.+0.j  7.+0.j 15.+0.j]\n"
     ]
    }
   ],
   "source": [
    "Data = cfp(4,0,unsigned = True, offset=0.0,method=\"truncate\")\n",
    "Data.from_complex(np.arange(16))\n",
    "revData=bitrevfixarray(Data,16) #parse the array [0,1,2,3,4,5,6,7] into the bitreversal array:\n",
    "print(\"Type: \",revData,\"\\n\",\"Data: \",revData.data)"
   ]
  },
  {
   "cell_type": "markdown",
   "metadata": {},
   "source": [
    "It works, while maintaining the type and shape of the original data! We now implement the fixed-point FFT with post-bit reordering as with MeerKAT, and implementing the shaping schemes mentioned earlier:"
   ]
  },
  {
   "cell_type": "code",
   "execution_count": 38,
   "metadata": {},
   "outputs": [],
   "source": [
    "def make_fix_twiddle(N,bits,fraction,offset=0.0, method=\"round\"):\n",
    "    twids = cfp(bits,fraction,offset = offset, method = method)\n",
    "    tmp = cfp(bits,fraction,offset=offset, method = method)\n",
    "    twids.from_complex(np.zeros(N//2,dtype=np.complex))\n",
    "    for i in range(0,N//2):\n",
    "        tmp.from_complex(np.exp(-2*i*np.pi*1j/N)/2.001)\n",
    "        twids[i] = tmp\n",
    "    return twids"
   ]
  },
  {
   "cell_type": "markdown",
   "metadata": {},
   "source": [
    "Checking our fixedpoint twiddle factor maker works:"
   ]
  },
  {
   "cell_type": "markdown",
   "metadata": {},
   "source": [
    "It works, now we may implement the FFT as per the MeerKAT standards (shifting schemes etc)."
   ]
  },
  {
   "cell_type": "code",
   "execution_count": 39,
   "metadata": {},
   "outputs": [],
   "source": [
    "from collections import deque\n",
    "import numpy as np\n",
    "def iterffft_natural_DIT(a,twid,shiftreg,bits,fraction,offset=0.0,method=\"round\"):       #parse in data,tiddle factors (must be in bit reversed order for natural order in),\n",
    "                                                                                 #how many bits fixpoint numbers are, fraction bits they are, offset, and rounding scheme.\n",
    "    data=a.copy()\n",
    "    N = data.data.size                                                           #how long is data stream\n",
    "    stages = np.log2(N)\n",
    "    if(type(shiftreg) == deque and len(shiftreg)==stages):\n",
    "        shiftreg = shiftreg\n",
    "    elif(type(shiftreg)==list and len(shiftreg)==stages):\n",
    "        shiftreg = deque(shiftreg)\n",
    "    else:\n",
    "        raise ValueError(\"shift register must be of type list or deque, and its length must be that of log2(data length)\")\n",
    "    \n",
    "    pairs_in_group = N//2                                                        #how many butterfly pairs per group - starts at 1/2*full data length obviously\n",
    "    num_of_groups = 1                                                            #number of groups - how many subarrays are there?\n",
    "    distance = N//2                                                              #how far between each fft arm?\n",
    "    while num_of_groups < N:                                                     #basically iterates through stages\n",
    "        for k in range(num_of_groups):                                           #iterate through each subarray\n",
    "            jfirst = 2*k*pairs_in_group                                          #index to beginning of a group\n",
    "            jlast = jfirst + pairs_in_group - 1                                  #first index plus offset - used to index whole group\n",
    "            W=twid[k]\n",
    "            for j in range(jfirst,jlast+1):\n",
    "                tmp = (W * data[j+distance]) >> bits\n",
    "                tmp.bits -= bits + 1\n",
    "                tmp.fraction -= bits\n",
    "                tmp.normalise()\n",
    "                #if k==0:\n",
    "                    #print(W, data, tmp)\n",
    "                data[j+distance] = data[j]-tmp\n",
    "                data[j] = data[j]+tmp\n",
    "        if shiftreg.pop():                                                   #implement FFT shift and then normalise to correct at end of stage\n",
    "            data>>1\n",
    "        pairs_in_group //=2\n",
    "        num_of_groups *=2\n",
    "        distance //=2\n",
    "    A=bitrevfixarray(data,N)                                                        #post bit-reordering\n",
    "    return A"
   ]
  },
  {
   "cell_type": "markdown",
   "metadata": {},
   "source": [
    "Testing it on a cosine in a similar way to the floating point instance:"
   ]
  },
  {
   "cell_type": "code",
   "execution_count": 40,
   "metadata": {},
   "outputs": [
    {
     "data": {
      "image/png": "[encoded data removed]",
      "text/plain": [
       "<Figure size 432x288 with 1 Axes>"
      ]
     },
     "metadata": {},
     "output_type": "display_data"
    }
   ],
   "source": [
    "import collections\n",
    "bits = 20\n",
    "cos = (np.cos(8*np.pi*np.arange(nnn)/nnn))/8.001\n",
    "sig = cos+1j*(np.cos(128*np.pi*np.arange(nnn)/nnn))/8.001\n",
    "fixsig = cfp(bits,bits,offset=0.0,method=\"truncate\")                                             #our cosine will be\n",
    "fixsig.from_complex(cos)                                                         #get data in\n",
    "shiftreg = collections.deque([0,0,0,0,1,1,1,1,1,1])                                                #make 64 bit shiftregister\n",
    "#shiftreg = collections.deque([1,1,1,1,1,1,1,1,1,1])                                                #make 64 bit shiftregister\n",
    "twiddles = make_fix_twiddle(nnn,bits,bits,method=\"truncate\")                                       #make fixpoint twiddle factors\n",
    "twiddles = bitrevfixarray(twiddles,twiddles.data.size)                           #reverse order them \n",
    "FFFTcos = iterffft_natural_DIT(fixsig,twiddles,shiftreg,bits,bits)                       #perform fixed point fft\n",
    "absFFFTcos = np.abs(FFFTcos.to_complex())\n",
    "w = maketwiddle(nnn)\n",
    "w = bitrevarray(w,w.size)\n",
    "#plt.plot(np.abs(iterfft_natural_in_DIT(cos,w))*2**bits,'b',label='Our iterative float FFT')\n",
    "plt.plot(np.abs(np.fft.fft(sig)),'g',label='Numpy FFT')\n",
    "plt.plot(absFFFTcos,'r',label='Our iterative fixed FFT')\n",
    "plt.ylim(0, absFFFTcos.max())\n",
    "plt.xlim(0, 50)\n",
    "plt.legend()\n",
    "plt.show()"
   ]
  },
  {
   "cell_type": "code",
   "execution_count": 147,
   "metadata": {},
   "outputs": [
    {
     "data": {
      "text/plain": [
       "array([0.+0.j, 0.+0.j, 0.+0.j, ..., 0.+0.j, 0.+0.j, 0.+0.j])"
      ]
     },
     "execution_count": 147,
     "metadata": {},
     "output_type": "execute_result"
    }
   ],
   "source": [
    "fixsig.data-bitrevfixarray(bitrevfixarray(fixsig,nnn),nnn).data\n",
    "  "
   ]
  },
  {
   "cell_type": "markdown",
   "metadata": {},
   "source": [
    "Well... sort of correct spikes, but very small. They must be saturating, because we cannot allow our data to grow past 1 (i.e. we have 1 bit integer part and 9 bits fraction part). Is there some post data scaling at SKA? :/ FFT shifting is still required however, so perhaps that will reduce the inbetween spikes. How to shift? SKA uses a register containing 1's if one should shift a 0's if no shift necessary. Considering we're processing a cosine wave, we should fft shift at every loop for now, but we'll implement the functionality to read from a 'register'. For now, the register will contain only 1's"
   ]
  },
  {
   "cell_type": "markdown",
   "metadata": {},
   "source": [
    "Well... sort of correct spikes, but very small. They must be saturating, because we cannot allow our data to grow past 1 (i.e. we have 1 bit integer part and 9 bits fraction part). Is there some post data scaling at SKA? :/ FFT shifting is still required however, so perhaps that will reduce the inbetween spikes. How to shift? SKA uses a register containing 1's if one should shift a 0's if no shift necessary. Considering we're processing a cosine wave, we should fft shift at every loop for now, but we'll implement the functionality to read from a 'register'. For now, the register will contain only 1's"
   ]
  },
  {
   "cell_type": "code",
   "execution_count": null,
   "metadata": {},
   "outputs": [],
   "source": [
    "#!/usr/bin/env python3\n",
    "# -*- coding: utf-8 -*-\n",
    "\"\"\"\n",
    "PFB object. Initialise with taps, points, percentage of total to average over\n",
    "and window type. Then parse data set, or parse data stream.\n",
    "\"\"\"\n",
    "#IMPORTS\n",
    "import numpy as np\n",
    "import matplotlib.pyplot as plt\n",
    "\n",
    "class PFB(object):\n",
    "        \"\"\"This function takes point size, how many taps, what percentage of total data to average over,\n",
    "        what windowing function, whether you're running dual polarisations, and data type\"\"\"\n",
    "        def __init__(self, N, taps, avg = 1, datasrc = None, w = 'hanning',dual = False):\n",
    "            self.N = N                                      #how many points\n",
    "            self.avg = avg                                  #what averaging\n",
    "            self.dual = dual                                #whether you're performing dual polarisations or not\n",
    "            self.reg =np.zeros([N,taps])                    #our fir register size filled with zeros orignally\n",
    "            self.inputdata = None\n",
    "            if(datasrc is not None and type(datasrc)==str):             #if input data file is specified\n",
    "                self.inputdatadir = datasrc\n",
    "                self.outputdatadir = datasrc[:-4]+\"out.npy\"\n",
    "                self.inputdata  = np.load(datasrc)\n",
    "                \n",
    "            \n",
    "            WinDic = {                                      #dictionary of various filter types\n",
    "                'hanning' : np.hanning,\n",
    "                'hamming' : np.hamming,\n",
    "                'bartlett': np.bartlett,\n",
    "                'blackman': np.blackman,\n",
    "                }\n",
    "            \n",
    "            self.window=WinDic[w](taps)     \n",
    "            self.X_k = None                                 #our output\n",
    "            \n",
    "            if(dual):                                       #if dual, our two outputs\n",
    "                self.H_k = None\n",
    "                self.G_k = None\n",
    "                \n",
    "        \"\"\"Takes data segment (N long) and appends each value to each fir.\n",
    "        Returns data segment (N long) that is the sum of fircontents*window\"\"\"\n",
    "        def _FIR(self,x):\n",
    "            X = np.sum(self.reg*self.window,axis=1)              #filter\n",
    "            self.reg = np.column_stack((x,self.reg))[:,:-1]      #push and pop from FIR register array\n",
    "            return X\n",
    "        \n",
    "        \"\"\"In the event that that dual polarisations have been selected, we need to \n",
    "        split out the data after and return the individual X_k values\"\"\"        \n",
    "        def _split(self,Y_k):\n",
    "            length = np.size(Y_k,axis=1)\n",
    "            self.H_k = np.zeros([self.N,length],dtype = np.complex)\n",
    "            self.G_k = np.ones([self.N,length],dtype=np.complex)\n",
    "            \n",
    "            #reverse the arrays for the splitting function correctly\n",
    "            R_k = np.real(Y_k)\n",
    "            R_kflip = R_k.copy()\n",
    "            R_kflip[1:] = R_kflip[1:][::-1]\n",
    "            \n",
    "            I_k = np.imag(Y_k)\n",
    "            I_kflip = I_k.copy()\n",
    "            I_kflip[1:] = I_kflip[1:][::-1]\n",
    "\n",
    "            self.G_k[:,:] = (1/2)*(R_k[:,:]+1j*I_k[:,:]+R_kflip[:,:]-1j*I_kflip[:,:])\n",
    "            self.H_k[:,:] = (1/2j)*(R_k[:,:]+1j*I_k[:,:]-R_kflip[:,:]+1j*I_kflip[:,:])\n",
    "        \n",
    "        \n",
    "\n",
    "        \"\"\"Here we take the power spectrum of the outputs. The averaging scheme\n",
    "        tells over what portion of the output data to take the power spectrum of.\n",
    "        If alternatively a input file is specified, then average specifies over\n",
    "        how many channels to average.\"\"\"        \n",
    "        def _pow(self,X):\n",
    "            if(self.avg ==1):\n",
    "                return np.abs(X[:])**2                             #The scheme for averaging used.\n",
    "            \n",
    "            elif(abs(self.avg)<1):                                 #If input data array is used\n",
    "                                                                   #then averaging will be over a % of it.\n",
    "                iterr = int(1/self.avg)\n",
    "                rng = X.shape[1]//iterr\n",
    "                Xt = np.zeros([self.N,iterr])\n",
    "                for i in range(0,iterr):\n",
    "                    if(i ==0):\n",
    "                        Xt[:,i] = np.abs(np.sum(X[:,0:rng],axis=1))**2\n",
    "                    else:\n",
    "                        Xt[:,i] = np.abs(np.sum(X[:,i*rng-1:i*rng+rng-1],axis=1))**2\n",
    "                return Xt\n",
    "            \n",
    "            else:                                                   #If input file is used the averaging then\n",
    "                                                                    #averaging will be over specified # of channels.\n",
    "                assert X.shape[1]>self.avg and X.shape[1]%self.avg==0, \"Data parsed is not enough to average over\"\n",
    "                +\"or is not multiple of average specified\"\n",
    "                iterr = X.shape[1]//self.avg\n",
    "                Xt = np.zeros([self.N,iterr])\n",
    "                for i in range(0,iterr):\n",
    "                    if(i==0):\n",
    "                        Xt[:,i] = np.abs(np.sum(X[:,0:self.avg],axis=1))**2\n",
    "                    else:\n",
    "                        Xt[:,i] = np.abs(np.sum(X[:,i*self.avg-1:i*self.avg+self.avg-1],axis=1))**2\n",
    "\n",
    "        \"\"\"Given data, (having specified whether the PFB will run in dual or not)\n",
    "        you parse the data and the PFB will compute the spectrum (continuous data mode to still add)\"\"\"\n",
    "        def run(self,data=None):\n",
    "            if (data is not None):                                  #if we are using an input data array\n",
    "                self.inputdata = data\n",
    "            elif(self.inputdata is None):\n",
    "                raise ValueError (\"No input data for PFB specified.\")\n",
    "\n",
    "            size = len(self.inputdata)                                    #get length of data stream\n",
    "            stages = size//self.N                               #how many cycles of commutator\n",
    "            X = np.zeros([self.N,stages],dtype = np.complex)    #will be tapsize x stage\n",
    "            \n",
    "            for i in range(0,stages):                           #for each stage, populate all firs, and run FFT once\n",
    "                if(i ==0):\n",
    "                    X[:,i] = iterfft(self._FIR(self.inputdata[i*self.N:i*self.N+self.N]))\n",
    "                else:\n",
    "                    X[:,i] = iterfft(self._FIR(self.inputdata[i*self.N-1:i*self.N+self.N-1]))\n",
    "            \n",
    "            if(type(self.inputdata) == str):             \n",
    "                if(self.dual): \n",
    "                    self._split(X)\n",
    "                    np.save(self.outputdatadir,self._pow(self.G_k)+1j*self._pow(self.H_k))          #save output data as complex (same pol ordering)\n",
    "                    \n",
    "                else:   \n",
    "                    np.save(self.outputdatadir,self._pow(X))\n",
    "            else:\n",
    "                if(self.dual): \n",
    "                    self._split(X)\n",
    "                    self.G_k=self._pow(self.G_k)\n",
    "                    self.H_k=self._pow(self.H_k)\n",
    "                else:\n",
    "                    self.X_k = self._pow(X)\n",
    "                    \n",
    "\n",
    "        \"\"\"Plotting method to display the spectrum - has option to display input alongside\"\"\"\n",
    "        def show(self,save=False,flnm = 'plot.png'):\n",
    "            n = np.arange(self.N)\n",
    "            if(type(self.inputdata) == str):         #In the event we are writing to\n",
    "                                                    #and reading from a file.\n",
    "                if(self.dual):\n",
    "                    Val = np.load(self.outputdatadir)\n",
    "                    fig = plt.figure(1)\n",
    "                    plt.subplot(211)\n",
    "                    plt.plot(n,np.real(Val))\n",
    "                \n",
    "                    plt.subplot(212)\n",
    "                    plt.plot(n,np.imag(Val))\n",
    "                    if(save): fig.savefig(flnm)\n",
    "                    plt.show()\n",
    "                    \n",
    "                else:\n",
    "                    Val = np.load(self.outputdatadir)\n",
    "                    fig = plt.plot(n,Val)\n",
    "                    if(save): fig.savefig(flnm)\n",
    "                    plt.show()\n",
    "            else:                                   #In the event we were given\n",
    "                                                    #a direct array.\n",
    "                if(self.dual):\n",
    "                    fig = plt.figure(1)\n",
    "                    plt.subplot(211)\n",
    "                    plt.plot(n,self.H_k)\n",
    "                \n",
    "                    plt.subplot(212)\n",
    "                    plt.plot(n,self.G_k)\n",
    "                    if(save): fig.savefig(flnm)\n",
    "                    plt.show()\n",
    "                    \n",
    "                else:\n",
    "                    fig = plt.plot(n,self.X_k)\n",
    "                    if(save): fig.savefig(flnm)\n",
    "                    plt.show()"
   ]
  },
  {
   "cell_type": "markdown",
   "metadata": {},
   "source": [
    "Taking a cos input signal:"
   ]
  },
  {
   "cell_type": "code",
   "execution_count": null,
   "metadata": {},
   "outputs": [],
   "source": [
    "cos = np.cos(160*np.pi*np.arange(1280)/1280)\n",
    "plt.plot(np.arange(1280),cos)\n",
    "plt.title('Cos input signal')"
   ]
  },
  {
   "cell_type": "markdown",
   "metadata": {},
   "source": [
    "Say we want to process the above signal using a 64-pt, 4 tap pfb that averages over 4 output channels, and accepts a single polarisation. We'd declare this pfb as:"
   ]
  },
  {
   "cell_type": "code",
   "execution_count": null,
   "metadata": {},
   "outputs": [],
   "source": [
    "pfb_float_single = PFB(64,4,0.25)"
   ]
  },
  {
   "cell_type": "markdown",
   "metadata": {},
   "source": [
    "and run the data through it and display it as:"
   ]
  },
  {
   "cell_type": "code",
   "execution_count": null,
   "metadata": {},
   "outputs": [],
   "source": [
    "pfb_float_single.run(cos)\n",
    "pfb_float_single.show()"
   ]
  },
  {
   "cell_type": "markdown",
   "metadata": {},
   "source": [
    "And showing the last output of our pfb (so as to see an output without averaging):"
   ]
  },
  {
   "cell_type": "code",
   "execution_count": null,
   "metadata": {},
   "outputs": [],
   "source": [
    "plt.plot(np.arange(64),pfb_float_single.X_k[:,-1],'k')"
   ]
  },
  {
   "cell_type": "markdown",
   "metadata": {},
   "source": [
    "Comparing the above with the numpy transform of a cosine wave we get:"
   ]
  },
  {
   "cell_type": "code",
   "execution_count": null,
   "metadata": {},
   "outputs": [],
   "source": [
    "plt.plot(np.arange(64),np.absolute(np.fft.fft(np.cos(8*np.pi*np.arange(64)/64)))[:]**2,'k')"
   ]
  },
  {
   "cell_type": "markdown",
   "metadata": {},
   "source": [
    "Which produces spikes in the same places, but just of lower amplitude due to numpy operating on a 20th of the data.\n",
    "Checking a dual polarisation - i.e the following signal:"
   ]
  },
  {
   "cell_type": "code",
   "execution_count": null,
   "metadata": {},
   "outputs": [],
   "source": [
    "rect = np.zeros(1280)\n",
    "rect[1:10]=1\n",
    "sig = cos+1j*rect"
   ]
  },
  {
   "cell_type": "markdown",
   "metadata": {},
   "source": [
    "Which is the combination of a rectangular and cosine function. We declare as:"
   ]
  },
  {
   "cell_type": "code",
   "execution_count": null,
   "metadata": {},
   "outputs": [],
   "source": [
    "pfb_float_dual = PFB(64,4,0.25,dual = True)"
   ]
  },
  {
   "cell_type": "code",
   "execution_count": null,
   "metadata": {},
   "outputs": [],
   "source": [
    "pfb_float_dual.run(sig)\n",
    "pfb_float_dual.show()"
   ]
  },
  {
   "cell_type": "markdown",
   "metadata": {},
   "source": [
    "The splitting and averaging works like a charm :')."
   ]
  },
  {
   "cell_type": "code",
   "execution_count": null,
   "metadata": {},
   "outputs": [],
   "source": [
    "# -*- coding: utf-8 -*-\n",
    "\"\"\"\n",
    "Created on Thu Jul 12 14:54:57 2018\n",
    "\n",
    "@author: User\n",
    "\"\"\"\n",
    "\n",
    "#!/usr/bin/env python3\n",
    "# -*- coding: utf-8 -*-\n",
    "\"\"\"\n",
    "PFB object. Initialise with taps, points, percentage of total to average over\n",
    "and window type. Then parse data set, or parse data stream.\n",
    "\"\"\"\n",
    "#IMPORTS\n",
    "import numpy as np\n",
    "from collections import deque\n",
    "import collections\n",
    "import matplotlib.pyplot as plt\n",
    "from fixpoint import fixpoint, cfixpoint\n",
    "\n",
    "class FixPFB(object):\n",
    "        \"\"\"This function takes point size, how many taps, what percentage of total data to average over,\n",
    "        what windowing function, whether you're running dual polarisations, and data type\"\"\"\n",
    "        def __init__(self, N, taps, bits, fraction,shiftreg, unsigned = False, offset = 0.5,method = \"round\",  avgperc = 1,w = 'hanning',dual = False):\n",
    "            self.N = N                   #how many points\n",
    "            self.avg = avgperc           #what averaging\n",
    "            self.dual = dual             #whether you're performing dual polarisations or not\n",
    "            \n",
    "            self.bits = bits\n",
    "            self.fraction = fraction\n",
    "            self.shiftreg = shiftreg\n",
    "            self.unsigned = unsigned\n",
    "            self.offset = offset\n",
    "            self.method = method\n",
    "            \n",
    "            self.reg = cfixpoint(self.bits, self.fraction,unsigned = self.unsigned,offset = self.offset, method = self.method)\n",
    "            self.reg.from_complex(np.zeros([N,taps])) #our fir register size filled with zeros orignally\n",
    "            \n",
    "            WinDic = {                   #dictionary of various filter types\n",
    "                'hanning' : np.hanning,\n",
    "                'hamming' : np.hamming,\n",
    "                'bartlett': np.bartlett,\n",
    "                'blackman': np.blackman,\n",
    "                }\n",
    "            self.window = cfixpoint(self.bits, self.fraction,unsigned = self.unsigned,offset = self.offset, method = self.method)\n",
    "            self.window.from_complex(WinDic[w](taps))     \n",
    "            self.X_k = cfixpoint(self.bits, self.fraction,unsigned = self.unsigned,offset = self.offset, method = self.method)                 #our output\n",
    "            \n",
    "            if(dual):                       #if dual, our two outputs\n",
    "                self.H_k = cfixpoint(self.bits, self.fraction,unsigned = self.unsigned,offset = self.offset, method = self.method)\n",
    "                self.G_k = cfixpoint(self.bits, self.fraction,unsigned = self.unsigned,offset = self.offset, method = self.method)\n",
    "                \n",
    "        \"\"\"Takes data segment (N long) and appends each value to each fir.\n",
    "        Returns data segment (N long) that is the sum of fircontents*window\"\"\"\n",
    "        def _FIR(self,x):\n",
    "            X =  (self.reg*self.window).sum(axis=1).quantise(self.bits,self.fraction,unsigned=self.unsigned)\n",
    "            tmp = np.column_stack((x.data,self.reg.data))[:,:-1]\n",
    "            self.reg.real.data = np.real(tmp)\n",
    "            self.reg.imag.data = np.imag(tmp)     #push and pop from FIR register array\n",
    "            return X\n",
    "        \n",
    "        \"\"\"In the event that that dual polarisations have been selected, we need to \n",
    "        split out the data after and return the individual X_k values\"\"\"        \n",
    "        def _split(self,Yk):\n",
    "            length = np.size(Yk.data,axis=1)\n",
    "            self.H_k.from_complex(np.zeros([self.N,length]))\n",
    "            self.G_k.from_complex(np.zeros([self.N,length]))\n",
    "            \n",
    "            zeros = np.zeros(Yk.data.shape)\n",
    "            tmpfx = fixpoint(self.bits, self.fraction,unsigned = self.unsigned,offset = self.offset, method = self.method)\n",
    "            tmpfx.from_float(zeros)\n",
    "            \n",
    "            R_k = cfixpoint(real=Yk.real,imag = tmpfx)\n",
    "            I_k = cfixpoint(real = tmpfx,imag = Yk.imag)\n",
    "            \n",
    "            R_kflip = R_k.copy()\n",
    "            R_kflip[1:] = R_kflip[1:][::-1]\n",
    "            \n",
    "            I_kflip = I_k.copy()\n",
    "            I_kflip[1:] = I_kflip[1:][::-1]\n",
    "            \n",
    "            cst2 = cfixpoint(1, 0,unsigned = self.unsigned,offset = self.offset, method = self.method)\n",
    "            cst3 = cfixpoint(1, 0,unsigned = self.unsigned,offset = self.offset, method = self.method)\n",
    "            cst2.from_complex(-1j)\n",
    "            cst3.from_complex(1)\n",
    "\n",
    "            self.G_k[:,:] = (R_k[:,:]+cst2*I_k[:,:]+R_kflip[:,:]-cst2*I_kflip[:,:]).r_shift(1)\n",
    "            self.H_k[:,:] = (cst3*cst2*(R_k[:,:]+cst2*I_k[:,:]-R_kflip[:,:]+cst2*I_kflip[:,:])).r_shift(1)\n",
    "\n",
    "        \n",
    "\n",
    "        \"\"\"Here we take the power spectrum of the outputs. The averaging scheme\n",
    "        tells over what portion of the output data to take the power spectrum of.\"\"\"        \n",
    "        def _pow(self,X):\n",
    "            if(self.avg ==1):\n",
    "                retX = X.real*X.real + X.imag*X.imag\n",
    "                return retX\n",
    "            else:\n",
    "                iterr = int(1/self.avg)\n",
    "                rng = len(X.data[0,:])//iterr\n",
    "                Xt = fixpoint(self.bits, self.fraction,unsigned = self.unsigned,offset = self.offset, method = self.method)\n",
    "                Xt.from_float(np.zeros([self.N,iterr]))\n",
    "                for i in range(0,iterr):\n",
    "                    if(i ==0):\n",
    "                        xt = X[:,i*rng:i*rng+rng].sum(axis=1)\n",
    "                        Xt[:,i] = xt.real*xt.real+xt.imag*xt.imag\n",
    "                    else:\n",
    "                        xt = X[:,i*rng-1:i*rng+rng-1].sum(axis=1)\n",
    "                        Xt[:,i] = xt.real*xt.real+xt.imag*xt.imag\n",
    "                return Xt\n",
    "\n",
    "        \"\"\"Given data, (having specified whether the PFB will run in dual or not)\n",
    "        you parse the data and the PFB will compute the spectrum (continuous data mode to still add)\"\"\"\n",
    "        def run(self,DATA, cont = False):\n",
    "            if (cont ==False):\n",
    "                    size = DATA.data.shape[0]                           #get length of data stream\n",
    "                    stages = size//self.N                               #how many cycles of commutator\n",
    "                    \n",
    "                    X = cfixpoint(self.bits, self.fraction,unsigned = self.unsigned,offset = self.offset, method = self.method)\n",
    "                    X.from_complex(np.zeros([self.N,stages]))           #will be tapsize x stage\n",
    "                    \n",
    "                    for i in range(0,stages):                           #for each stage, populate all firs, and run FFT once\n",
    "                        if(i ==0):\n",
    "                            X[:,i] = iterffft(self._FIR(DATA[i*self.N:i*self.N+self.N]),self.bits,self.fraction,self.shiftreg)\n",
    "                        else:\n",
    "                            X[:,i] = iterffft(self._FIR(DATA[i*self.N-1:i*self.N+self.N-1]),self.bits,self.fraction,self.shiftreg)\n",
    "                    if(self.dual): \n",
    "                        self._split(X)\n",
    "                        self.H_k = self._pow(self.H_k)\n",
    "                        self.G_k = self._pow(self.G_k)\n",
    "                    else:   \n",
    "                        self.X_k = self._pow(X)\n",
    "            else:\n",
    "                pass\n",
    "\n",
    "        \"\"\"Plotting method to display the spectrum - has option to display input alongside\"\"\"\n",
    "        def show(self,save=False,flnm = 'plot.png'):\n",
    "            n = np.arange(self.N)\n",
    "            if(self.dual):\n",
    "                fig = plt.figure(1)\n",
    "                plt.subplot(211)\n",
    "                plt.plot(n,self.H_k.to_float())\n",
    "            \n",
    "                plt.subplot(212)\n",
    "                plt.plot(n,self.G_k.to_float())\n",
    "                if(save): fig.savefig(flnm)\n",
    "                \n",
    "            else:\n",
    "                fig = plt.plot(n,self.X_k.to_float())\n",
    "                if(save): fig.savefig(flnm)\n",
    "                "
   ]
  },
  {
   "cell_type": "markdown",
   "metadata": {},
   "source": [
    "The above PFB is implemented to take a cfixpoint data stream, and operate on it. The bits and fraction integers specified determine what precision the output data, window factors and data stored in the FIR registers is kept at. The same goes for the specifying of the offset, rounding method and unsigned. Below we mimick the test run on the floating point PFB with 8 bits, 7 fraction, and signed numbers. We also specify the shift register for the FFT to be all 1's and so we shift right on every iteration."
   ]
  },
  {
   "cell_type": "code",
   "execution_count": null,
   "metadata": {},
   "outputs": [],
   "source": [
    "fixcos = cfixpoint(8,7)\n",
    "fixcos.from_complex(cos)\n",
    "reg = deque([1,1,1,1,1,1])\n",
    "fpfb = FixPFB(N=64,taps=4,bits=10,fraction=9,shiftreg = reg)\n",
    "fpfb.run(fixcos)\n",
    "fpfb.show()"
   ]
  },
  {
   "cell_type": "markdown",
   "metadata": {},
   "source": [
    "Yaaay! I think.\n",
    "\n",
    "Checking dual polarisations now, without averaging:"
   ]
  },
  {
   "cell_type": "code",
   "execution_count": null,
   "metadata": {},
   "outputs": [],
   "source": [
    "csig=cfixpoint(8,7)\n",
    "csig.from_complex(sig) #get out complex signal - same as earlier test\n",
    "fpfbdual = FixPFB(N=64,taps=4,bits=10,fraction=9,shiftreg = reg, dual=True, avgperc = 0.25)\n",
    "fpfbdual.run(csig)\n",
    "fpfbdual.show()"
   ]
  },
  {
   "cell_type": "code",
   "execution_count": null,
   "metadata": {},
   "outputs": [],
   "source": [
    "\n"
   ]
  }
 ],
 "metadata": {
  "kernelspec": {
   "display_name": "Python 3",
   "language": "python",
   "name": "python3"
  },
  "language_info": {
   "codemirror_mode": {
    "name": "ipython",
    "version": 3
   },
   "file_extension": ".py",
   "mimetype": "text/x-python",
   "name": "python",
   "nbconvert_exporter": "python",
   "pygments_lexer": "ipython3",
   "version": "3.6.4"
  }
 },
 "nbformat": 4,
 "nbformat_minor": 2
}
